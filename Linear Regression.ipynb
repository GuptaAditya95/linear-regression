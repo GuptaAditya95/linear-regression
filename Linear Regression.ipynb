{
 "cells": [
  {
   "cell_type": "code",
   "execution_count": 3,
   "metadata": {},
   "outputs": [
    {
     "name": "stderr",
     "output_type": "stream",
     "text": [
      "C:\\Users\\aditya\\AppData\\Local\\Temp\\ipykernel_41556\\2080034654.py:2: DeprecationWarning: \n",
      "Pyarrow will become a required dependency of pandas in the next major release of pandas (pandas 3.0),\n",
      "(to allow more performant data types, such as the Arrow string type, and better interoperability with other libraries)\n",
      "but was not found to be installed on your system.\n",
      "If this would cause problems for you,\n",
      "please provide us feedback at https://github.com/pandas-dev/pandas/issues/54466\n",
      "        \n",
      "  import pandas as pd\n"
     ]
    }
   ],
   "source": [
    "import numpy as np\n",
    "import pandas as pd\n",
    "import matplotlib.pyplot as plt"
   ]
  },
  {
   "cell_type": "code",
   "execution_count": 4,
   "metadata": {},
   "outputs": [],
   "source": [
    "SEED = 1234\n",
    "NUM_SAMPLES = 50\n"
   ]
  },
  {
   "cell_type": "code",
   "execution_count": 5,
   "metadata": {},
   "outputs": [],
   "source": [
    "np.random.seed(SEED)"
   ]
  },
  {
   "cell_type": "code",
   "execution_count": 6,
   "metadata": {},
   "outputs": [],
   "source": [
    "def generate_date(num_samples):\n",
    "    '''Generate data for linear regression'''\n",
    "    X = np.array(range(num_samples))\n",
    "    random_noise = np.random.uniform(-10,20, size=num_samples)\n",
    "    y = 3.5*X + random_noise # add some noise\n",
    "    return X, y"
   ]
  },
  {
   "cell_type": "code",
   "execution_count": 20,
   "metadata": {},
   "outputs": [
    {
     "name": "stdout",
     "output_type": "stream",
     "text": [
      "[[ 0.         -6.64317047]\n",
      " [ 1.         11.71581119]\n",
      " [ 2.         13.97833929]\n",
      " [ 3.          0.70292186]\n",
      " [ 4.         22.52325126]]\n"
     ]
    }
   ],
   "source": [
    "X, y = generate_date(num_samples=NUM_SAMPLES)\n",
    "data = np.vstack([X, y]).T\n",
    "print(data[:5])"
   ]
  },
  {
   "cell_type": "code",
   "execution_count": 21,
   "metadata": {},
   "outputs": [
    {
     "data": {
      "text/html": [
       "<div>\n",
       "<style scoped>\n",
       "    .dataframe tbody tr th:only-of-type {\n",
       "        vertical-align: middle;\n",
       "    }\n",
       "\n",
       "    .dataframe tbody tr th {\n",
       "        vertical-align: top;\n",
       "    }\n",
       "\n",
       "    .dataframe thead th {\n",
       "        text-align: right;\n",
       "    }\n",
       "</style>\n",
       "<table border=\"1\" class=\"dataframe\">\n",
       "  <thead>\n",
       "    <tr style=\"text-align: right;\">\n",
       "      <th></th>\n",
       "      <th>X</th>\n",
       "      <th>y</th>\n",
       "    </tr>\n",
       "  </thead>\n",
       "  <tbody>\n",
       "    <tr>\n",
       "      <th>0</th>\n",
       "      <td>0.0</td>\n",
       "      <td>-6.643170</td>\n",
       "    </tr>\n",
       "    <tr>\n",
       "      <th>1</th>\n",
       "      <td>1.0</td>\n",
       "      <td>11.715811</td>\n",
       "    </tr>\n",
       "    <tr>\n",
       "      <th>2</th>\n",
       "      <td>2.0</td>\n",
       "      <td>13.978339</td>\n",
       "    </tr>\n",
       "    <tr>\n",
       "      <th>3</th>\n",
       "      <td>3.0</td>\n",
       "      <td>0.702922</td>\n",
       "    </tr>\n",
       "    <tr>\n",
       "      <th>4</th>\n",
       "      <td>4.0</td>\n",
       "      <td>22.523251</td>\n",
       "    </tr>\n",
       "  </tbody>\n",
       "</table>\n",
       "</div>"
      ],
      "text/plain": [
       "     X          y\n",
       "0  0.0  -6.643170\n",
       "1  1.0  11.715811\n",
       "2  2.0  13.978339\n",
       "3  3.0   0.702922\n",
       "4  4.0  22.523251"
      ]
     },
     "execution_count": 21,
     "metadata": {},
     "output_type": "execute_result"
    }
   ],
   "source": [
    "df = pd.DataFrame(data, columns=[\"X\",\"y\"])\n",
    "\n",
    "X = df[[\"X\"]].values\n",
    "y = df[[\"y\"]].values\n",
    "df.head()"
   ]
  },
  {
   "cell_type": "code",
   "execution_count": 26,
   "metadata": {},
   "outputs": [
    {
     "data": {
      "image/png": "[encoded data removed]",
      "text/plain": [
       "<Figure size 640x480 with 1 Axes>"
      ]
     },
     "metadata": {},
     "output_type": "display_data"
    }
   ],
   "source": [
    "plt.title(\"Generated Data\")\n",
    "plt.scatter(x=df[\"X\"], y=df[\"y\"])\n",
    "plt.show()"
   ]
  },
  {
   "cell_type": "code",
   "execution_count": 27,
   "metadata": {},
   "outputs": [],
   "source": [
    "TRAIN_SIZE = 0.7\n",
    "VAL_SIZE = 0.15\n",
    "TEST_SIZE = 0.15\n"
   ]
  },
  {
   "cell_type": "code",
   "execution_count": 28,
   "metadata": {},
   "outputs": [],
   "source": [
    "indices = list(range(NUM_SAMPLES))\n",
    "np.random.shuffle(indices)\n",
    "X = X[indices]\n",
    "y = y[indices]\n"
   ]
  },
  {
   "cell_type": "code",
   "execution_count": 30,
   "metadata": {},
   "outputs": [],
   "source": [
    "train_start = 0\n",
    "train_end = int(0.7 * NUM_SAMPLES)\n",
    "val_start = train_end\n",
    "val_end = int((TRAIN_SIZE+VAL_SIZE) * NUM_SAMPLES)\n",
    "test_start = val_end"
   ]
  },
  {
   "cell_type": "code",
   "execution_count": 31,
   "metadata": {},
   "outputs": [
    {
     "name": "stdout",
     "output_type": "stream",
     "text": [
      "X_train: (35, 1), y_train: (35, 1)\n",
      "X_val:(7, 1), y_test: (7, 1)\n",
      "X_test: (8, 1), y_test: (8, 1)\n"
     ]
    }
   ],
   "source": [
    "X_train = X[train_start:train_end]\n",
    "y_train = y[train_start:train_end]\n",
    "X_val = X[val_start:val_end]\n",
    "y_val = y[val_start:val_end]\n",
    "X_test = X[test_start:]\n",
    "y_test = y[test_start:]\n",
    "print(f\"X_train: {X_train.shape}, y_train: {y_train.shape}\")\n",
    "print(f\"X_val:{X_val.shape}, y_test: {y_val.shape}\")\n",
    "print(f\"X_test: {X_test.shape}, y_test: {y_test.shape}\")"
   ]
  },
  {
   "cell_type": "code",
   "execution_count": 32,
   "metadata": {},
   "outputs": [],
   "source": [
    "def standardize_data(data, mean, std):\n",
    "    return (data - mean)/std"
   ]
  },
  {
   "cell_type": "code",
   "execution_count": 34,
   "metadata": {},
   "outputs": [],
   "source": [
    "# Determine means and stds\n",
    "X_mean = np.mean(X_train)\n",
    "X_std = np.std(X_train)\n",
    "y_mean = np.mean(y_train)\n",
    "y_std = np.std(y_train)\n"
   ]
  },
  {
   "cell_type": "code",
   "execution_count": 35,
   "metadata": {},
   "outputs": [],
   "source": [
    "# Standardize\n",
    "X_train = standardize_data(X_train, X_mean, X_std)\n",
    "y_train = standardize_data(y_train, y_mean, y_std)\n",
    "X_val = standardize_data(X_val, X_mean, X_std)\n",
    "y_val = standardize_data(y_val, y_mean, y_std)\n",
    "X_test = standardize_data(X_test, X_mean, X_std)\n",
    "y_test = standardize_data(y_test, y_mean, y_std)"
   ]
  },
  {
   "cell_type": "code",
   "execution_count": 36,
   "metadata": {},
   "outputs": [
    {
     "name": "stdout",
     "output_type": "stream",
     "text": [
      "mean: -0.9, std: 0.3\n",
      "mean: -0.8, std: 0.3\n"
     ]
    }
   ],
   "source": [
    "print (f\"mean: {np.mean(X_test, axis=0)[0]:.1f}, std: {np.std(X_test, axis=0)[0]:.1f}\")\n",
    "print (f\"mean: {np.mean(y_test, axis=0)[0]:.1f}, std: {np.std(y_test, axis=0)[0]:.1f}\")\n"
   ]
  },
  {
   "cell_type": "code",
   "execution_count": 39,
   "metadata": {},
   "outputs": [],
   "source": [
    "INPUT_DIM = X_train.shape[1]\n",
    "OUTPUT_DIM = y_train.shape[1]"
   ]
  },
  {
   "cell_type": "code",
   "execution_count": 42,
   "metadata": {},
   "outputs": [
    {
     "name": "stdout",
     "output_type": "stream",
     "text": [
      "[[-0.0027137]] [[0.]]\n"
     ]
    }
   ],
   "source": [
    "W = 0.01 * np.random.randn(INPUT_DIM, OUTPUT_DIM)\n",
    "b = np.zeros((1,1))\n",
    "print(W,b)\n"
   ]
  },
  {
   "cell_type": "code",
   "execution_count": 44,
   "metadata": {},
   "outputs": [
    {
     "name": "stdout",
     "output_type": "stream",
     "text": [
      "[[ 0.00306988]\n",
      " [ 0.00233646]\n",
      " [-0.00133063]\n",
      " [-0.00261411]\n",
      " [-0.00169734]\n",
      " [-0.00188069]\n",
      " [-0.00389759]\n",
      " [ 0.00160304]\n",
      " [ 0.00013621]\n",
      " [-0.00078057]\n",
      " [-0.0022474 ]\n",
      " [ 0.00105298]\n",
      " [-0.00151398]\n",
      " [ 0.00417001]\n",
      " [ 0.00325323]\n",
      " [ 0.00435336]\n",
      " [-0.00114728]\n",
      " [ 0.00251982]\n",
      " [-0.00298082]\n",
      " [-0.00334753]\n",
      " [-0.00243076]\n",
      " [ 0.00086962]\n",
      " [-0.00408095]\n",
      " [ 0.00361994]\n",
      " [ 0.00050292]\n",
      " [ 0.00031956]\n",
      " [ 0.00453672]\n",
      " [ 0.0038033 ]\n",
      " [-0.00371424]\n",
      " [-0.00041386]\n",
      " [-0.00059721]\n",
      " [-0.00316418]\n",
      " [ 0.00472007]\n",
      " [-0.0002305 ]\n",
      " [-0.00279747]]\n"
     ]
    }
   ],
   "source": [
    "y_pred = np.dot(X_train, W) + b\n",
    "print(y_pred)"
   ]
  },
  {
   "cell_type": "code",
   "execution_count": 49,
   "metadata": {},
   "outputs": [
    {
     "name": "stdout",
     "output_type": "stream",
     "text": [
      "0.5026852793175739\n"
     ]
    }
   ],
   "source": [
    "N = len(y_train)\n",
    "loss = (1/(2*N)) * np.sum((y_pred - y_train)**2)\n",
    "print(loss)"
   ]
  },
  {
   "cell_type": "code",
   "execution_count": 50,
   "metadata": {},
   "outputs": [],
   "source": [
    "dW = (2/(2*N)) * np.sum((y_pred - y_train) * X_train)\n",
    "db = (2/(2*N)) * np.sum((y_pred - y_train) * 1)\n"
   ]
  },
  {
   "cell_type": "code",
   "execution_count": 51,
   "metadata": {},
   "outputs": [],
   "source": [
    "LEARNING_RATE = 1e-1"
   ]
  },
  {
   "cell_type": "code",
   "execution_count": 52,
   "metadata": {},
   "outputs": [],
   "source": [
    "W += -LEARNING_RATE * dW\n",
    "b += -LEARNING_RATE * db"
   ]
  },
  {
   "cell_type": "code",
   "execution_count": 56,
   "metadata": {},
   "outputs": [],
   "source": [
    "NUM_EPOCHS = 1000\n"
   ]
  },
  {
   "cell_type": "code",
   "execution_count": 57,
   "metadata": {},
   "outputs": [
    {
     "name": "stdout",
     "output_type": "stream",
     "text": [
      "Epoch: 0, loss: 0.481\n",
      "Epoch: 10, loss: 0.069\n",
      "Epoch: 20, loss: 0.019\n",
      "Epoch: 30, loss: 0.013\n",
      "Epoch: 40, loss: 0.012\n",
      "Epoch: 50, loss: 0.012\n",
      "Epoch: 60, loss: 0.012\n",
      "Epoch: 70, loss: 0.012\n",
      "Epoch: 80, loss: 0.012\n",
      "Epoch: 90, loss: 0.012\n",
      "Epoch: 100, loss: 0.012\n",
      "Epoch: 110, loss: 0.012\n",
      "Epoch: 120, loss: 0.012\n",
      "Epoch: 130, loss: 0.012\n",
      "Epoch: 140, loss: 0.012\n",
      "Epoch: 150, loss: 0.012\n",
      "Epoch: 160, loss: 0.012\n",
      "Epoch: 170, loss: 0.012\n",
      "Epoch: 180, loss: 0.012\n",
      "Epoch: 190, loss: 0.012\n",
      "Epoch: 200, loss: 0.012\n",
      "Epoch: 210, loss: 0.012\n",
      "Epoch: 220, loss: 0.012\n",
      "Epoch: 230, loss: 0.012\n",
      "Epoch: 240, loss: 0.012\n",
      "Epoch: 250, loss: 0.012\n",
      "Epoch: 260, loss: 0.012\n",
      "Epoch: 270, loss: 0.012\n",
      "Epoch: 280, loss: 0.012\n",
      "Epoch: 290, loss: 0.012\n",
      "Epoch: 300, loss: 0.012\n",
      "Epoch: 310, loss: 0.012\n",
      "Epoch: 320, loss: 0.012\n",
      "Epoch: 330, loss: 0.012\n",
      "Epoch: 340, loss: 0.012\n",
      "Epoch: 350, loss: 0.012\n",
      "Epoch: 360, loss: 0.012\n",
      "Epoch: 370, loss: 0.012\n",
      "Epoch: 380, loss: 0.012\n",
      "Epoch: 390, loss: 0.012\n",
      "Epoch: 400, loss: 0.012\n",
      "Epoch: 410, loss: 0.012\n",
      "Epoch: 420, loss: 0.012\n",
      "Epoch: 430, loss: 0.012\n",
      "Epoch: 440, loss: 0.012\n",
      "Epoch: 450, loss: 0.012\n",
      "Epoch: 460, loss: 0.012\n",
      "Epoch: 470, loss: 0.012\n",
      "Epoch: 480, loss: 0.012\n",
      "Epoch: 490, loss: 0.012\n",
      "Epoch: 500, loss: 0.012\n",
      "Epoch: 510, loss: 0.012\n",
      "Epoch: 520, loss: 0.012\n",
      "Epoch: 530, loss: 0.012\n",
      "Epoch: 540, loss: 0.012\n",
      "Epoch: 550, loss: 0.012\n",
      "Epoch: 560, loss: 0.012\n",
      "Epoch: 570, loss: 0.012\n",
      "Epoch: 580, loss: 0.012\n",
      "Epoch: 590, loss: 0.012\n",
      "Epoch: 600, loss: 0.012\n",
      "Epoch: 610, loss: 0.012\n",
      "Epoch: 620, loss: 0.012\n",
      "Epoch: 630, loss: 0.012\n",
      "Epoch: 640, loss: 0.012\n",
      "Epoch: 650, loss: 0.012\n",
      "Epoch: 660, loss: 0.012\n",
      "Epoch: 670, loss: 0.012\n",
      "Epoch: 680, loss: 0.012\n",
      "Epoch: 690, loss: 0.012\n",
      "Epoch: 700, loss: 0.012\n",
      "Epoch: 710, loss: 0.012\n",
      "Epoch: 720, loss: 0.012\n",
      "Epoch: 730, loss: 0.012\n",
      "Epoch: 740, loss: 0.012\n",
      "Epoch: 750, loss: 0.012\n",
      "Epoch: 760, loss: 0.012\n",
      "Epoch: 770, loss: 0.012\n",
      "Epoch: 780, loss: 0.012\n",
      "Epoch: 790, loss: 0.012\n",
      "Epoch: 800, loss: 0.012\n",
      "Epoch: 810, loss: 0.012\n",
      "Epoch: 820, loss: 0.012\n",
      "Epoch: 830, loss: 0.012\n",
      "Epoch: 840, loss: 0.012\n",
      "Epoch: 850, loss: 0.012\n",
      "Epoch: 860, loss: 0.012\n",
      "Epoch: 870, loss: 0.012\n",
      "Epoch: 880, loss: 0.012\n",
      "Epoch: 890, loss: 0.012\n",
      "Epoch: 900, loss: 0.012\n",
      "Epoch: 910, loss: 0.012\n",
      "Epoch: 920, loss: 0.012\n",
      "Epoch: 930, loss: 0.012\n",
      "Epoch: 940, loss: 0.012\n",
      "Epoch: 950, loss: 0.012\n",
      "Epoch: 960, loss: 0.012\n",
      "Epoch: 970, loss: 0.012\n",
      "Epoch: 980, loss: 0.012\n",
      "Epoch: 990, loss: 0.012\n"
     ]
    }
   ],
   "source": [
    "# Initialize random weights\n",
    "W = 0.01 * np.random.randn(INPUT_DIM, OUTPUT_DIM)\n",
    "b = np.zeros((1, ))\n",
    "\n",
    "# Training loop\n",
    "for epoch_num in range(NUM_EPOCHS):\n",
    "\n",
    "    # Forward pass [NX1] · [1X1] = [NX1]\n",
    "    y_pred = np.dot(X_train, W) + b\n",
    "\n",
    "    # Loss\n",
    "    loss = (1/(len(y_train) * 2)) * np.sum((y_train - y_pred)**2)\n",
    "\n",
    "    # Show progress\n",
    "    if epoch_num%10 == 0:\n",
    "        print (f\"Epoch: {epoch_num}, loss: {loss:.3f}\")\n",
    "\n",
    "    # Backpropagation\n",
    "    dW = (1/N) * np.sum((y_pred - y_train) * X_train)\n",
    "    db = (1/N) * np.sum((y_pred - y_train) * 1)\n",
    "\n",
    "    # Update weights\n",
    "    W += -LEARNING_RATE * dW\n",
    "    b += -LEARNING_RATE * db"
   ]
  },
  {
   "cell_type": "code",
   "execution_count": null,
   "metadata": {},
   "outputs": [],
   "source": []
  }
 ],
 "metadata": {
  "kernelspec": {
   "display_name": "Python 3",
   "language": "python",
   "name": "python3"
  },
  "language_info": {
   "codemirror_mode": {
    "name": "ipython",
    "version": 3
   },
   "file_extension": ".py",
   "mimetype": "text/x-python",
   "name": "python",
   "nbconvert_exporter": "python",
   "pygments_lexer": "ipython3",
   "version": "3.9.12"
  },
  "orig_nbformat": 4
 },
 "nbformat": 4,
 "nbformat_minor": 2
}
